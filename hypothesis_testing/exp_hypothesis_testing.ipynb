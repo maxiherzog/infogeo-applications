{
 "cells": [
  {
   "cell_type": "code",
   "execution_count": 1,
   "metadata": {},
   "outputs": [
    {
     "data": {
      "text/plain": [
       "{'divide': 'warn', 'over': 'warn', 'under': 'ignore', 'invalid': 'warn'}"
      ]
     },
     "execution_count": 1,
     "metadata": {},
     "output_type": "execute_result"
    }
   ],
   "source": [
    "from __future__ import print_function\n",
    "from ipywidgets import interact, interactive, fixed, interact_manual\n",
    "import ipywidgets as widgets\n",
    "\n",
    "import matplotlib.pyplot as plt\n",
    "\n",
    "import numpy as np\n",
    "import scipy.optimize\n",
    "np.seterr(all='ignore')"
   ]
  },
  {
   "cell_type": "markdown",
   "metadata": {},
   "source": [
    "# Studying information geometric applications for exponential families\n",
    "https://arxiv.org/pdf/0709.2196.pdf\n",
    "\n",
    "We first go with the exponential family of gaussians, i.e. $t(x) = [x, x^2]^T$.\n",
    "\n",
    "It then holds:\n",
    "$$F(\\theta) = \\log\\int_{-\\infty}^{\\infty} \\exp(\\theta_1x + \\theta_2x^2)\\text{d}x = - \\frac{\\theta_1^2}{4\\theta_2} + \\frac{1}{2} \\log \\frac{\\pi}{-\\theta_2}$$"
   ]
  },
  {
   "cell_type": "code",
   "execution_count": 2,
   "metadata": {},
   "outputs": [
    {
     "data": {
      "image/png": "[encoded data removed]",
      "text/plain": [
       "<Figure size 432x288 with 1 Axes>"
      ]
     },
     "metadata": {
      "needs_background": "light"
     },
     "output_type": "display_data"
    }
   ],
   "source": [
    "X = np.linspace(-7, 5, 1000)\n",
    "\n",
    "# gaussian statistics vector\n",
    "def t_gaussian(X):\n",
    "    return [X, X**2]\n",
    "\n",
    "\n",
    "def exp(X, theta, t):\n",
    "    t_val = t(X)\n",
    "    theta_val = np.tile(theta, (len(X), 1)).transpose()\n",
    "    if len(theta) == 2: #gaussian\n",
    "        eF = F_gaussian(theta)\n",
    "    else:\n",
    "        eF = F(X, theta, t) # try to estimate F\n",
    "    \n",
    "    return np.exp(np.sum(t_val*theta_val, axis=0)-eF)\n",
    "\n",
    "def F_gaussian(theta):\n",
    "    return -theta[0]**2/(4*theta[1]) + 1/2 * np.log(np.pi/-theta[1])\n",
    "\n",
    "def F(X, theta, t):\n",
    "    t_val = t(X)\n",
    "    if len(t_val) != len(theta):\n",
    "        raise ValueError(\"t_val and theta must have the same length\")\n",
    "\n",
    "    theta_val = np.tile(theta, (len(X), 1)).transpose()\n",
    "    return np.sum(np.exp(np.sum(t_val*theta_val, axis=0)))\n",
    "\n",
    "theta0 = np.array([-1, -0.2])\n",
    "theta1 = np.array([1,  -0.4])\n",
    "plt.plot(X, exp(X, theta0, t_gaussian), label=\"$p_0$\")\n",
    "plt.plot(X, exp(X, theta1, t_gaussian), label=\"$p_1$\")\n",
    "plt.legend()\n",
    "plt.show();\n"
   ]
  },
  {
   "cell_type": "markdown",
   "metadata": {},
   "source": [
    "We can then obtian the dual coordinates\n",
    "$$\\eta_1 = \\partial_1 F(\\theta) = -\\frac{\\theta_1}{2 \\theta_2} $$\n",
    "$$\\eta_2 = \\partial_2 F(\\theta) = \\frac{\\theta_1^2 - 2 \\theta_2}{4 \\theta_2^2}$$\n",
    "\n",
    "And this way, the Bregmann divergence and Bregmann bisector of both types.\n",
    "\n",
    "We also can compute the legendre transform, done here using Mathematica(see attached notebook)\n",
    "$$F^*(\\eta) = - \\frac{1}{2}\\left(1 + \\log(-2 \\pi (\\eta_1^2 -\\eta_2) \\right)$$\n"
   ]
  },
  {
   "cell_type": "code",
   "execution_count": 3,
   "metadata": {},
   "outputs": [
    {
     "data": {
      "application/vnd.jupyter.widget-view+json": {
       "model_id": "1e7436ac7bcc4dbb89d39e203a4ec311",
       "version_major": 2,
       "version_minor": 0
      },
      "text/plain": [
       "interactive(children=(FloatSlider(value=0.33, description='theta01', max=1.5, min=-1.2, step=0.01), FloatSlide…"
      ]
     },
     "metadata": {},
     "output_type": "display_data"
    }
   ],
   "source": [
    "plt.rcParams[\"figure.figsize\"] = (15,15)\n",
    "def dF_gaussian(theta):\n",
    "    return np.array([-theta[0]/(2*theta[1]), (theta[0]**2 - 2 * theta[1])/(4*theta[1]**2)])\n",
    "\n",
    "def eta(theta):\n",
    "    return dF_gaussian(theta)\n",
    "\n",
    "def F(theta):\n",
    "    return F_gaussian(theta)\n",
    "\n",
    "def Fs(eta):\n",
    "    return -1/2*(1+ np.log(-2* np.pi*(eta[0]**2 -eta[1])))\n",
    "\n",
    "def B_F_gaussian(theta, theta_hat):\n",
    "    return F_gaussian(theta) - F_gaussian(theta_hat) - np.tensordot(dF_gaussian(theta_hat),theta - theta_hat[:,None,None], axes=(0,0))\n",
    "\n",
    "\n",
    "def middle_distance_first(theta, theta1, theta2):\n",
    "    return np.tensordot(theta, eta(theta1) - eta(theta2), axes=(0,0)) + \\\n",
    "        F(theta1) - np.inner(theta1,eta(theta1)) - F(theta2) + np.inner(theta2, eta(theta2))\n",
    "\n",
    "def middle_distance_second(theta, theta1, theta2):\n",
    "    return np.tensordot(eta(theta), theta2-theta1, axes=(0,0)) + F(theta1) - F(theta2)\n",
    "\n",
    "def middle_distance_third(theta, theta1, theta2):\n",
    "    return np.tensordot(theta, eta(theta1) - eta(theta2), axes=(0,0)) + \\\n",
    "        np.tensordot(eta(theta), theta1-theta2, axes=(0,0)) + \\\n",
    "        - np.inner(theta1,eta(theta1)) + np.inner(theta2, eta(theta2))\n",
    "\n",
    "X = np.linspace(-1.2,1.5, 100)\n",
    "Y = np.linspace(-2, 0, 100)\n",
    "\n",
    "xx,yy = np.meshgrid(X,Y)\n",
    "\n",
    "def f(theta01, theta02, theta11, theta12 ):\n",
    "    theta0 = np.array([theta01, theta02])\n",
    "    theta1 = np.array([theta11, theta12])\n",
    "    \n",
    "    ax = plt.subplot(111)\n",
    "    # set aspect ratio to 1 to make the plot square\n",
    "    plt.gca().set_aspect('equal', adjustable='box')\n",
    "\n",
    "    plt.plot(theta0[0], theta0[1], \"o\", label=\"$p_0$\")\n",
    "    plt.plot(theta1[0], theta1[1], \"o\", label=\"$p_1$\")\n",
    "    plt.legend()\n",
    "    plt.xlabel(r\"$\\theta_1$\")\n",
    "    plt.ylabel(r\"$\\theta_2$\")\n",
    "\n",
    "\n",
    "    B_F0 = B_F_gaussian(np.array([xx,yy]),theta0)\n",
    "    B_F1 = B_F_gaussian(np.array([xx,yy]),theta1)\n",
    "    ax.contour(xx,yy,B_F0,levels=[ 1e-2, 1e-1,1], colors=\"black\", linestyles=\"dashed\", )\n",
    "    ax.contour(xx,yy,B_F1,levels=[ 1e-2, 1e-1,1], colors=\"black\", linestyles=\"dashed\")\n",
    "\n",
    "    mids1 = middle_distance_first(np.array([xx,yy]), theta0, theta1)\n",
    "    ax.contour(xx,yy,mids1,levels=[ 0], colors=\"blue\")\n",
    "\n",
    "\n",
    "    mids2 = middle_distance_second(np.array([xx,yy]), theta0, theta1)\n",
    "    ax.contour(xx,yy,mids2,levels=[ 0], colors=\"purple\")\n",
    "\n",
    "    mids3 = middle_distance_third(np.array([xx,yy]), theta0, theta1)\n",
    "    ax.contour(xx,yy,mids3,levels=[ 0], colors=\"green\")\n",
    "\n",
    "    \n",
    "    plt.plot([theta0[0],theta1[0]], [theta0[1], theta1[1]], color=\"gray\", alpha=0.2)\n",
    "    plt.legend()\n",
    "    plt.show();\n",
    "    \n",
    "    \n",
    "# interact with sliders\n",
    "interact(f, \n",
    "         theta01=widgets.FloatSlider(min=X[0], max=X[-1], step=0.01, value=0.33),\n",
    "         theta02=widgets.FloatSlider(min=Y[0], max=Y[-1], step=0.01, value=-0.33),\n",
    "         theta11=widgets.FloatSlider(min=X[0], max=X[-1], step=0.01, value=0.33),\n",
    "         theta12=widgets.FloatSlider(min=Y[0], max=Y[-1], step=0.01, value=-0.5),);"
   ]
  }
 ],
 "metadata": {
  "kernelspec": {
   "display_name": "Python 3.10.5 ('infogeo')",
   "language": "python",
   "name": "python3"
  },
  "language_info": {
   "codemirror_mode": {
    "name": "ipython",
    "version": 3
   },
   "file_extension": ".py",
   "mimetype": "text/x-python",
   "name": "python",
   "nbconvert_exporter": "python",
   "pygments_lexer": "ipython3",
   "version": "3.10.5"
  },
  "orig_nbformat": 4,
  "vscode": {
   "interpreter": {
    "hash": "cf6f2b873b083113c66e9385d889bdf1c222b2a863b4cd35952485172132e73c"
   }
  }
 },
 "nbformat": 4,
 "nbformat_minor": 2
}
